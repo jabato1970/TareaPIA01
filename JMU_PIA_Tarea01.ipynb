{
 "cells": [
  {
   "cell_type": "markdown",
   "metadata": {},
   "source": [
    "**JMU**  \n",
    "noviembre 2022  \n",
    "PIA\n",
    "\n",
    "EJERCICIO PIA01  \n",
    "Creado con VISUAL STUDIO CODE con JUPYTER en PYTHON  \n",
    "Sincronizado con Github"
   ]
  },
  {
   "cell_type": "markdown",
   "metadata": {},
   "source": [
    "**APARTADO 1**\n",
    "\n",
    "\n",
    "\n"
   ]
  },
  {
   "cell_type": "markdown",
   "metadata": {},
   "source": [
    "Inicialmente he tenido que crear una cuenta en Github, como ya la tenía creada sin seleccionar \"skip personalization\" la he borrado y vuelto a crear seleccionado dicho elemento. No ha habido ningún problema con volver a tener el mismo usuario, email y password. El borrado ha sido total\n",
    "\n"
   ]
  },
  {
   "cell_type": "markdown",
   "metadata": {},
   "source": [
    "![registro3.JPG](./img/registro3.JPG)"
   ]
  },
  {
   "cell_type": "markdown",
   "metadata": {},
   "source": [
    "Ya seleccionado \"Skip personalization\" me deriva a página de registro. Relleno mis datos. Verifica no soy un robot"
   ]
  },
  {
   "cell_type": "markdown",
   "metadata": {},
   "source": [
    "![registro1.JPG|10](./img/registro1.JPG)"
   ]
  },
  {
   "cell_type": "markdown",
   "metadata": {},
   "source": [
    "Me pide para verificar mi email y finalizar la creación de cuenta introducir el código recibido en él."
   ]
  },
  {
   "cell_type": "markdown",
   "metadata": {},
   "source": [
    "![registro2.JPG](./img/registro2.JPG)"
   ]
  },
  {
   "cell_type": "markdown",
   "metadata": {},
   "source": [
    "Introducido el código se abre la página principal de Github"
   ]
  },
  {
   "attachments": {},
   "cell_type": "markdown",
   "metadata": {},
   "source": [
    "![general.JPG](./img/general.JPG)"
   ]
  },
  {
   "cell_type": "markdown",
   "metadata": {},
   "source": [
    "Elijo crear nuevo repositorio y me abre la siguiente página"
   ]
  },
  {
   "attachments": {},
   "cell_type": "markdown",
   "metadata": {},
   "source": [
    "![repositorioPIA01.JPG](./img/repositorioPIA01.JPG)"
   ]
  },
  {
   "cell_type": "markdown",
   "metadata": {},
   "source": [
    "Elijo la opción de instalar la aplicación en desktop. Se instala y la apliación se abre iniciando un repositorio tutorial para practicar"
   ]
  },
  {
   "attachments": {},
   "cell_type": "markdown",
   "metadata": {},
   "source": [
    "![Github.JPG](./img/Github.JPG)"
   ]
  },
  {
   "cell_type": "markdown",
   "metadata": {},
   "source": [
    "A partir de aquí realizo las 2 tareas del ejercicio PIA01 en Jupyter sincronizándose con Github a través de desktop haciendo pruebas con fetch-push-commit-pull y ver resultados de sincronización"
   ]
  },
  {
   "attachments": {},
   "cell_type": "markdown",
   "metadata": {},
   "source": [
    "![Github2.JPG](./img/Github2.JPG)"
   ]
  },
  {
   "cell_type": "markdown",
   "metadata": {},
   "source": [
    "**APARTADO 2**"
   ]
  },
  {
   "cell_type": "markdown",
   "metadata": {},
   "source": [
    "Tengo cuenta en Linkedin, así que he buscado a Spain AI y le he dado a seguir"
   ]
  },
  {
   "attachments": {},
   "cell_type": "markdown",
   "metadata": {},
   "source": [
    "![Linkedin1b.JPG](./img/Linkedin1b.JPG)"
   ]
  },
  {
   "cell_type": "markdown",
   "metadata": {},
   "source": [
    "A partir de ahí me he puesto a buscar gente relacionada con la IA y preferentemente que publique habitualmente y así pueda ir leyendo las notificaciones"
   ]
  },
  {
   "attachments": {},
   "cell_type": "markdown",
   "metadata": {},
   "source": [
    "![Linkedin3.JPG](./img/Linkedin3.JPG)"
   ]
  },
  {
   "cell_type": "markdown",
   "metadata": {},
   "source": [
    "Lista de personas a las que he marcadp seguir"
   ]
  },
  {
   "attachments": {},
   "cell_type": "markdown",
   "metadata": {},
   "source": [
    "![Linkedin4.JPG](./img/Linkedin4.JPG)"
   ]
  },
  {
   "cell_type": "markdown",
   "metadata": {},
   "source": [
    "**OBSERVACIONES A LA ACTIVIDAD:**  \n",
    "GitHub hace 9 años que no lo utilizo y me está costando refrescarlo.   \n",
    "Para las tareas de código, yo utilizaba Dreamweaver, Eclipse, Netbeans..., descartado.  \n",
    "He empezado utilizando Jupyter Notebooks en Docker, aprovechando la práctica de BDA, en entorno Linux emulado y he tenido problemas por el tema de permisos al mover archivos, además de tener 2 terminales abiertos, Powershell y WLS, así que he decidido ver como trabajar directamente en el anfitrión para simplificar e intentar centrarme en las tareas sin perderme con problemas de entornos, permisos y compatibilidades.  \n",
    "Me he instalado VS Code para trabajar en anfitrión, descargado extensiones varias y bien. Pero no estoy familiarizado con VSC y dada la urgencia de tiempo, he decido probar mas cosas.  \n",
    "He investigado como trabajar en anfitrión con Jupyter y me he descargado Anaconda, que he visto además tiene varias apliaciones interesantes para el curso.  \n",
    "Y con Anaconda-Jupyter las he realizado.  \n",
    "\n",
    "Había colocado mi nombre en los encabezados de los ficheros, pero he hecho pruebas para ver si con el enlace del repositorio era accesible a quien se lo enviase, pero no. Así que lo hecho público y ahora si. Pero he modificado nuevamente los ficheros para quitar entonces mi nombre, dejando iniciales solo.  \n",
    "Problema, en el historial de cambios se mantiene todo, así que lo he clonado para limpiarlo de datos personales."
   ]
  },
  {
   "cell_type": "markdown",
   "metadata": {},
   "source": [
    "Enlace a repositorio público creado:  \n",
    "<href>https://github.com/jabato1970/TareaPIA01.git<href>"
   ]
  }
 ],
 "metadata": {
  "kernelspec": {
   "display_name": "Python 3 (ipykernel)",
   "language": "python",
   "name": "python3"
  },
  "language_info": {
   "codemirror_mode": {
    "name": "ipython",
    "version": 3
   },
   "file_extension": ".py",
   "mimetype": "text/x-python",
   "name": "python",
   "nbconvert_exporter": "python",
   "pygments_lexer": "ipython3",
   "version": "3.9.13"
  },
  "vscode": {
   "interpreter": {
    "hash": "f027560aaa5d1370abb9f19c7c71f97861b7f9ee8178bcc1c644ee12e3f51f57"
   }
  }
 },
 "nbformat": 4,
 "nbformat_minor": 2
}
