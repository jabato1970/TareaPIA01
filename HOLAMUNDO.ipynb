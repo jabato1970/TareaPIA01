{
 "cells": [
  {
   "cell_type": "markdown",
   "metadata": {},
   "source": [
    "**JMU**  \n",
    "noviembre 2022  \n",
    "PIA"
   ]
  },
  {
   "cell_type": "markdown",
   "metadata": {
    "tags": []
   },
   "source": [
    "HOLA MUNDO"
   ]
  },
  {
   "cell_type": "markdown",
   "metadata": {},
   "source": [
    "Ejercicio realizado que genera la tabla del 7"
   ]
  },
  {
   "cell_type": "code",
   "execution_count": 1,
   "metadata": {},
   "outputs": [
    {
     "name": "stdout",
     "output_type": "stream",
     "text": [
      "7x0\t=\t0\n",
      "7x1\t=\t7\n",
      "7x2\t=\t14\n",
      "7x3\t=\t21\n",
      "7x4\t=\t28\n",
      "7x5\t=\t35\n",
      "7x6\t=\t42\n",
      "7x7\t=\t49\n",
      "7x8\t=\t56\n",
      "7x9\t=\t63\n",
      "7x10\t=\t70\n"
     ]
    }
   ],
   "source": [
    "table=7\n",
    "for times in range (0,11):\n",
    "    print (f'{table}x{times}\\t=\\t{table*times}')"
   ]
  }
 ],
 "metadata": {
  "kernelspec": {
   "display_name": "Python 3 (ipykernel)",
   "language": "python",
   "name": "python3"
  },
  "language_info": {
   "codemirror_mode": {
    "name": "ipython",
    "version": 3
   },
   "file_extension": ".py",
   "mimetype": "text/x-python",
   "name": "python",
   "nbconvert_exporter": "python",
   "pygments_lexer": "ipython3",
   "version": "3.9.13"
  },
  "vscode": {
   "interpreter": {
    "hash": "f027560aaa5d1370abb9f19c7c71f97861b7f9ee8178bcc1c644ee12e3f51f57"
   }
  }
 },
 "nbformat": 4,
 "nbformat_minor": 2
}
